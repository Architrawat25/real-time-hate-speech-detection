{
 "cells": [
  {
   "cell_type": "code",
   "execution_count": 3,
   "id": "fce93fac-5ba6-4a2c-8a3b-f4699145dbcb",
   "metadata": {},
   "outputs": [],
   "source": [
    "import os\n",
    "import pandas as pd"
   ]
  },
  {
   "cell_type": "code",
   "execution_count": 5,
   "id": "0359694c-478a-49d7-941e-36495fc78747",
   "metadata": {},
   "outputs": [],
   "source": [
    "# defining file path\n",
    "txt_folder = \"/Users/architrawat/Downloads/data 2/all_files\"  \n",
    "csv_file = \"/Users/architrawat/Downloads/data 2/annotations_metadata.csv\""
   ]
  },
  {
   "cell_type": "code",
   "execution_count": 7,
   "id": "7a988431-f0e3-4041-8245-94d596123742",
   "metadata": {},
   "outputs": [],
   "source": [
    "df = pd.read_csv(csv_file, dtype={\"file_id\": str})"
   ]
  },
  {
   "cell_type": "code",
   "execution_count": 9,
   "id": "75368116-b835-43e0-a111-bd716a8c4d7c",
   "metadata": {},
   "outputs": [],
   "source": [
    "# lists to store data\n",
    "texts = []\n",
    "labels = []"
   ]
  },
  {
   "cell_type": "code",
   "execution_count": 11,
   "id": "021090ac-e9c8-49b1-8cd4-a6a940cda115",
   "metadata": {},
   "outputs": [],
   "source": [
    "for index, row in df.iterrows():\n",
    "    file_name = row[\"file_id\"] + \".txt\"  # \".txt\" to match actual filenames\n",
    "    file_path = os.path.join(txt_folder, file_name)  \n",
    "\n",
    "    try:\n",
    "        with open(file_path, \"r\", encoding=\"utf-8\") as file:\n",
    "            text = file.read().strip()\n",
    "        texts.append(text)\n",
    "        labels.append(row[\"label\"])\n",
    "    except FileNotFoundError:\n",
    "        print(f\"Warning: {file_path} not found. Skipping.\")"
   ]
  },
  {
   "cell_type": "code",
   "execution_count": 12,
   "id": "077b4875-1097-446b-aff6-3e75191faaf4",
   "metadata": {},
   "outputs": [],
   "source": [
    "# final dataset\n",
    "final_df = pd.DataFrame({\"text\": texts, \"label\": labels})"
   ]
  },
  {
   "cell_type": "code",
   "execution_count": 13,
   "id": "7ef3c4f2-9401-4a2b-954f-3944e826f67f",
   "metadata": {},
   "outputs": [],
   "source": [
    "output_file = \"processed_dataset.csv\"\n",
    "final_df.to_csv(output_file, index=False)"
   ]
  },
  {
   "cell_type": "code",
   "execution_count": 14,
   "id": "827abd1a-d9f3-4b4f-a6c4-3fc2ba669a86",
   "metadata": {},
   "outputs": [
    {
     "name": "stdout",
     "output_type": "stream",
     "text": [
      "\n",
      "✅ Processing complete! Saved as: /Users/architrawat/Downloads/processed_dataset.csv\n"
     ]
    }
   ],
   "source": [
    "print(\"\\n✅ Processing complete! Saved as:\", os.path.abspath(output_file))"
   ]
  },
  {
   "cell_type": "code",
   "execution_count": null,
   "id": "03e55207-4cc7-4727-8884-d1734988c8e0",
   "metadata": {},
   "outputs": [],
   "source": []
  },
  {
   "cell_type": "code",
   "execution_count": null,
   "id": "cc366ebd-6199-43c3-8ec6-2358fb8b3973",
   "metadata": {},
   "outputs": [],
   "source": []
  }
 ],
 "metadata": {
  "kernelspec": {
   "display_name": "Python 3 (ipykernel)",
   "language": "python",
   "name": "python3"
  },
  "language_info": {
   "codemirror_mode": {
    "name": "ipython",
    "version": 3
   },
   "file_extension": ".py",
   "mimetype": "text/x-python",
   "name": "python",
   "nbconvert_exporter": "python",
   "pygments_lexer": "ipython3",
   "version": "3.12.4"
  }
 },
 "nbformat": 4,
 "nbformat_minor": 5
}
